{
  "nbformat": 4,
  "nbformat_minor": 0,
  "metadata": {
    "colab": {
      "provenance": []
    },
    "kernelspec": {
      "name": "python3",
      "display_name": "Python 3"
    },
    "language_info": {
      "name": "python"
    }
  },
  "cells": [
    {
      "cell_type": "markdown",
      "source": [
        "Código para extrair a função da reta (*y = ax + b*) para aquelas que \"*cortam*\" os eixos x e y."
      ],
      "metadata": {
        "id": "0LX2JNDqVUro"
      }
    },
    {
      "cell_type": "code",
      "execution_count": 21,
      "metadata": {
        "colab": {
          "base_uri": "https://localhost:8080/"
        },
        "id": "Om0oMyPtVSZ_",
        "outputId": "273e8628-5d3a-41ac-93f8-bac6b024feef"
      },
      "outputs": [
        {
          "output_type": "stream",
          "name": "stdout",
          "text": [
            "x: -3 y: 0\n",
            "x: 0 y: -3\n",
            "y=-1.0x-3\n",
            "Ponto ( -3 , 0 ) válido para a inequação  y=-1.0x-3\n"
          ]
        }
      ],
      "source": [
        "class Ponto:\n",
        "  def __init__(self,a,b):\n",
        "    self.x=a\n",
        "    self.y=b\n",
        "  def show(self):\n",
        "    print('x:',self.x,'y:',self.y)\n",
        "\n",
        "class Reta:\n",
        "  def __init__(self,p1,p2):\n",
        "    if p1.x==0:\n",
        "      #'primeiro ponto tem coord x = 0'\n",
        "      self.intermedB=p1.y\n",
        "      self.intermedA=(-self.intermedB)/p2.x\n",
        "    else:\n",
        "      #'segundo ponto tem coord x = 0'\n",
        "      self.intermedB=p2.y\n",
        "      self.intermedA=(-self.intermedB)/p1.x\n",
        "    print(self.mostraReta())\n",
        "\n",
        "  def mostraReta(self):\n",
        "    if self.intermedB>=0:\n",
        "      return 'y='+str(self.intermedA)+'x+'+str(self.intermedB)\n",
        "    else:\n",
        "      return 'y='+str(self.intermedA)+'x'+str(self.intermedB)\n",
        "\n",
        "class Inequacao:\n",
        "  def __init__(self,p1,p2,tipo):\n",
        "    self.reta = Reta(p1,p2)\n",
        "    self.tipo = tipo\n",
        "\n",
        "  def testaPonto(self,ponto):\n",
        "    match self.tipo:\n",
        "      case 0:\n",
        "        print('<')\n",
        "      case 1:\n",
        "        print('<=')\n",
        "      case 2:\n",
        "        print('>')\n",
        "      case 3:\n",
        "        print('>=')\n",
        "      case 4:\n",
        "        if ponto.y == self.reta.intermedA * ponto.x + self.reta.intermedB:\n",
        "          print('Ponto (',ponto.x,',',ponto.y,') válido para a inequação ',self.reta.mostraReta())\n",
        "        else:\n",
        "          print('Ponto (',ponto.x,',',ponto.y,') não é válido para a inequação ',self.reta.mostraReta())\n",
        "      case _:\n",
        "        print('Não foi definido um tipo corretamente')\n",
        "\n",
        "\n",
        "pontoA = Ponto(-3,0)\n",
        "pontoB = Ponto(0,-3)\n",
        "\n",
        "pontoA.show()\n",
        "pontoB.show()\n",
        "\n",
        "inequacao = Inequacao(pontoA,pontoB,4)\n",
        "inequacao.testaPonto(pontoA)"
      ]
    }
  ]
}